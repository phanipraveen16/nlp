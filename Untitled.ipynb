{
 "cells": [
  {
   "cell_type": "code",
   "execution_count": 1,
   "metadata": {
    "collapsed": true
   },
   "outputs": [],
   "source": [
    "import nltk\n",
    "from nltk.tokenize import sent_tokenize,word_tokenize"
   ]
  },
  {
   "cell_type": "code",
   "execution_count": 2,
   "metadata": {
    "collapsed": true
   },
   "outputs": [],
   "source": [
    "# Function to detect first criteria(not more than 15 sentences)"
   ]
  },
  {
   "cell_type": "code",
   "execution_count": 3,
   "metadata": {
    "collapsed": true
   },
   "outputs": [],
   "source": [
    "first_text = \"\"\"Musk was born on June 28, 1971, in Pretoria, Gauteng, South Africa,[27] the son of Maye Musk (née Haldeman),\n",
    "a model and dietician from Regina, Saskatchewan, Canada;[28] and Errol Musk, a South African electromechanical engineer, \n",
    "pilot and sailor. He has a younger brother, Kimbal (born 1972), and a younger sister, Tosca (born 1974).[28][29][30][31] \n",
    "His paternal grandmother was British, and he also has Pennsylvania Dutch ancestry,[32][33] and his maternal grandfather \n",
    "was American, from Minnesota.[34] After his parents divorced in 1980, Musk lived mostly with his father in the suburbs of \n",
    "Pretoria.[32]\n",
    "During his childhood he had an interest in reading and often did so for hours at a time.[35]\n",
    "At What age did Musk got interested in computing? At age 10, he developed an interest in computing with the Commodore \n",
    "VIC-20.[36] He taught himself computer programming at the age of 12, sold the code for a BASIC-based video game he created \n",
    "called Blastar, to a magazine called PC and Office Technology, for approximately $500. [37][38] A web version of the game\n",
    "is available online.[37][39]\n",
    "Musk was severely bullied throughout his childhood, and was once hospitalized when a group of boys threw him down a flight\n",
    "of stairs and then beat him until he lost consciousness.[40]\n",
    "Musk was initially educated at private schools, attending the English-speaking Waterkloof House Preparatory School. \n",
    "Mr. Singh helped Musk during his initial days when he was severely bullied during his childhood.\n",
    "Musk later graduated from Pretoria Boys High School and moved to Canada in June 1989, just before his 18th birthday,\n",
    "[41] after obtaining Canadian citizenship through his Canadian-born mother.[42][43] Although at the time Musk had to \n",
    "register to become a Canadian citizen, Bill C-37, which came into law in April of 2009, effectively made his Canadian \n",
    "citizenship retroactive to his birth since he was born in the first generation abroad to a Canadian-born mother. \n",
    "Therefore, with the law change, he is considered to have always been a Canadian citizen by birth.\"\"\"\n"
   ]
  },
  {
   "cell_type": "code",
   "execution_count": 5,
   "metadata": {
    "collapsed": false
   },
   "outputs": [
    {
     "data": {
      "text/plain": [
       "['Musk was born on June 28, 1971, in Pretoria, Gauteng, South Africa,[27] the son of Maye Musk (née Haldeman),\\na model and dietician from Regina, Saskatchewan, Canada;[28] and Errol Musk, a South African electromechanical engineer, \\npilot and sailor.',\n",
       " 'He has a younger brother, Kimbal (born 1972), and a younger sister, Tosca (born 1974).',\n",
       " '[28][29][30][31] \\nHis paternal grandmother was British, and he also has Pennsylvania Dutch ancestry,[32][33] and his maternal grandfather \\nwas American, from Minnesota.',\n",
       " '[34] After his parents divorced in 1980, Musk lived mostly with his father in the suburbs of \\nPretoria.',\n",
       " '[32]\\nDuring his childhood he had an interest in reading and often did so for hours at a time.',\n",
       " '[35]\\nAt What age did Musk got interested in computing?',\n",
       " 'At age 10, he developed an interest in computing with the Commodore \\nVIC-20.',\n",
       " '[36] He taught himself computer programming at the age of 12, sold the code for a BASIC-based video game he created \\ncalled Blastar, to a magazine called PC and Office Technology, for approximately $500.',\n",
       " '[37][38] A web version of the game\\nis available online.',\n",
       " '[37][39]\\nMusk was severely bullied throughout his childhood, and was once hospitalized when a group of boys threw him down a flight\\nof stairs and then beat him until he lost consciousness.',\n",
       " '[40]\\nMusk was initially educated at private schools, attending the English-speaking Waterkloof House Preparatory School.',\n",
       " 'Mr. Singh helped Musk during his initial days when he was severely bullied during his childhood.',\n",
       " 'Musk later graduated from Pretoria Boys High School and moved to Canada in June 1989, just before his 18th birthday,\\n[41] after obtaining Canadian citizenship through his Canadian-born mother.',\n",
       " '[42][43] Although at the time Musk had to \\nregister to become a Canadian citizen, Bill C-37, which came into law in April of 2009, effectively made his Canadian \\ncitizenship retroactive to his birth since he was born in the first generation abroad to a Canadian-born mother.',\n",
       " 'Therefore, with the law change, he is considered to have always been a Canadian citizen by birth.']"
      ]
     },
     "execution_count": 5,
     "metadata": {},
     "output_type": "execute_result"
    }
   ],
   "source": [
    "first_text_sentences = sent_tokenize(first_text)\n",
    "first_text_sentences"
   ]
  },
  {
   "cell_type": "code",
   "execution_count": 10,
   "metadata": {
    "collapsed": false
   },
   "outputs": [
    {
     "data": {
      "text/plain": [
       "15"
      ]
     },
     "execution_count": 10,
     "metadata": {},
     "output_type": "execute_result"
    }
   ],
   "source": [
    "no_of_sentences_first = len(first_text_sentences)\n",
    "no_of_sentences_first"
   ]
  },
  {
   "cell_type": "code",
   "execution_count": null,
   "metadata": {
    "collapsed": true
   },
   "outputs": [],
   "source": []
  }
 ],
 "metadata": {
  "kernelspec": {
   "display_name": "Python 3",
   "language": "python",
   "name": "python3"
  },
  "language_info": {
   "codemirror_mode": {
    "name": "ipython",
    "version": 3
   },
   "file_extension": ".py",
   "mimetype": "text/x-python",
   "name": "python",
   "nbconvert_exporter": "python",
   "pygments_lexer": "ipython3",
   "version": "3.5.2"
  }
 },
 "nbformat": 4,
 "nbformat_minor": 2
}
